{
  "nbformat": 4,
  "nbformat_minor": 0,
  "metadata": {
    "colab": {
      "provenance": [],
      "toc_visible": true,
      "authorship_tag": "ABX9TyOs3XlTsevQ+LTCbM6EYjU/"
    },
    "kernelspec": {
      "name": "python3",
      "display_name": "Python 3"
    },
    "language_info": {
      "name": "python"
    }
  },
  "cells": [
    {
      "cell_type": "markdown",
      "source": [
        "**Here's a comprehensive list of commonly used string methods in Python:**\n",
        "\n",
        "\n",
        "\n",
        "1. `capitalize()`: Converts the first character of a string to uppercase and the rest to lowercase.\n",
        "\n",
        "\n",
        "\n",
        "\n",
        "2. `casefold()`: Returns a lowercase version of the string. Similar to `lower()`, but more aggressive in converting characters to lowercase.\n",
        "\n",
        "3. `lower()`: This method converts all characters in a string to lowercase.\n",
        "4. `upper()`: This method converts all characters in a string to uppercase.\n",
        "5. `title()`: This method capitalizes the first character of each word in a string.\n",
        "6. `swapcase()`: This method swaps the case of all characters in a string (lowercase becomes uppercase and vice versa).\n",
        "7. `center(width, fillchar=' ')`: Returns a centered string of length width.\n",
        "8. `count(substring, start=..., end=...)`: Returns the number of occurrences of substring in the string, optionally restricting the search to start and end.\n",
        "9. `encode(encoding='utf-8', errors='strict')`: Returns the encoded version of the string as a bytes object.\n",
        "10. `endswith(suffix, start=..., end=...)`: Returns `True` if the string ends with the specified suffix, otherwise `False.`\n"
      ],
      "metadata": {
        "id": "NVLEwm840Ra_"
      }
    },
    {
      "cell_type": "code",
      "source": [],
      "metadata": {
        "id": "AqpbN7WdBPVP"
      },
      "execution_count": null,
      "outputs": []
    }
  ]
}