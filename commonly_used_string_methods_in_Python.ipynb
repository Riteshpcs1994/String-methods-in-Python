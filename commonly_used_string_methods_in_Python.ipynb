{
  "nbformat": 4,
  "nbformat_minor": 0,
  "metadata": {
    "colab": {
      "provenance": [],
      "toc_visible": true,
      "authorship_tag": "ABX9TyP2TiG2qiDti72IolUoeoAC"
    },
    "kernelspec": {
      "name": "python3",
      "display_name": "Python 3"
    },
    "language_info": {
      "name": "python"
    }
  },
  "cells": [
    {
      "cell_type": "markdown",
      "source": [
        "**Here's a comprehensive list of commonly used string methods in Python:**\n",
        "\n",
        "\n",
        "\n",
        "1. `capitalize()`: Converts the first character of a string to uppercase and the rest to lowercase.\n",
        "\n",
        "\n",
        "2. `casefold()`: Returns a lowercase version of the string. Similar to `lower()`, but more aggressive in converting characters to lowercase.\n",
        "\n",
        "3. `lower()`: This method converts all characters in a string to lowercase.\n",
        "4. `upper()`: This method converts all characters in a string to uppercase.\n",
        "5. `title()`: This method capitalizes the first character of each word in a string.\n",
        "6. `swapcase()`: This method swaps the case of all characters in a string (lowercase becomes uppercase and vice versa).\n",
        "7. `center(width, fillchar=' ')`: Returns a centered string of length width.\n",
        "8. `count(substring, start=..., end=...)`: Returns the number of occurrences of substring in the string, optionally restricting the search to start and end.\n",
        "9. `encode(encoding='utf-8', errors='strict')`: Returns the encoded version of the string as a bytes object.\n",
        "10. `endswith(suffix, start=..., end=...)`: Returns `True` if the string ends with the specified suffix, otherwise `False.`\n",
        "11. `index(substring, start=..., end=...)`: Like `find()`, but raises a ValueError if substring is not found.\n",
        "12. ` isalnum():` Returns `True` if all characters in the string are alphanumeric (i.e., letters or digits), otherwise `False`.\n",
        "13. ` isalpha()`: Returns `True` if all characters in the string are alphabetic (i.e., letters), otherwise `False`.\n",
        "14. `isascii()`: Returns `True` if all characters in the string are ASCII, otherwise `False`.\n",
        "15. `isdecimal():` Returns `True` if all characters in the string are decimals (i.e., digits), otherwise `False`\n",
        "16. `isdigit()`: Returns `True` if all characters in the string are digits, otherwise `False`.\n",
        "17. `isidentifier()`: Returns `True` if the string is a valid identifier (e.g., variable name), otherwise `False`\n",
        "18. `islower()`: Returns True if all characters in the string are lowercase, otherwise False.\n",
        "18. `isnumeric()`: Returns True if all characters in the string are numeric, otherwise False.\n",
        "19. `isprintable()`: Returns True if all characters in the string are printable, otherwise False.\n",
        "20. `isspace()`: Returns True if all characters in the string are whitespace, otherwise False.\n",
        "21. `istitle()`: Returns True if the string is titlecased (i.e., every word starts with an uppercase letter and the rest are lowercase), otherwise False.\n",
        "22. `isupper()`: Returns True if all characters in the string are uppercase, otherwise False.\n",
        "23. `join(iterable)`: Concatenates elements of the iterable with the string as a separator.\n",
        "24. `ljust(width, fillchar=' ')`: Returns a left-justified string of length width.\n",
        "25. `lower()`: Converts all characters in the string to lowercase.\n",
        "lstrip(chars=...): Removes leading characters (by default, whitespace characters) from the string.\n",
        "26. `partition(sep)`: Splits the string at the first occurrence of sep and returns a tuple containing the part before sep, sep itself, and the part after sep.\n",
        "27. `replace(old, new, count=...)`: Returns a copy of the string with all occurrences of old replaced by new, optionally restricting the number of replacements to count.\n",
        "28. `rfind(substring, start=..., end=...)`: Like find(), but searches from the right.\n",
        "29. `rindex(substring, start=..., end=...)`: Like index(), but searches from the right.\n",
        "30. `rjust(width, fillchar=' ')`: Returns a right-justified string of length width.\n",
        "31. `rpartition(sep)`: Splits the string at the last occurrence of sep and returns a tuple containing the part before sep, sep itself, and the part after sep.\n",
        "32. `rsplit(sep=None, maxsplit=...)`: Splits the string from the right at the specified sep, returning a list of substrings.\n",
        "33. `rstrip(chars=...)`: Removes trailing characters (by default, whitespace characters) from the string.\n",
        "34. `split(sep=None, maxsplit=...)`: Splits the string at the specified sep, returning a list of substrings.\n",
        "35. `splitlines(keepends=...)`: Splits the string at line breaks ('\\n', '\\r', '\\r\\n'), returning a list of lines.\n",
        "36. `startswith(prefix, start=..., end=...)`: Returns True if the string starts with the specified prefix, otherwise False.\n",
        "37. `strip(chars=...)`: Removes leading and trailing characters (by default, whitespace characters) from the string.\n",
        "38. `swapcase()`: Swaps the case of all characters in the string.\n",
        "\n",
        "39. `translate(table, deletechars=...)`: Returns a copy of the string where each character has been mapped through the given translation table.\n",
        "40. `zfill(width)`: Returns a copy of the string left-filled with zeros to a total length of width.\n"
      ],
      "metadata": {
        "id": "NVLEwm840Ra_"
      }
    },
    {
      "cell_type": "code",
      "source": [
        "# Example demonstrating various string methods\n",
        "\n",
        "# Initial string\n",
        "string = \"  hello, world!  \"\n",
        "\n",
        "# capitalize(): Capitalize the first character of the string\n",
        "print(\"capitalize():\", string.capitalize())  # Output: \"  hello, world!  \"\n",
        "\n",
        "# casefold(): Convert string to lowercase\n",
        "print(\"casefold():\", string.casefold())  # Output: \"  hello, world!  \"\n",
        "\n",
        "# center(width, fillchar=' '): Center the string within a width\n",
        "print(\"center():\", string.center(20, '*'))  # Output: \"**  hello, world!  **\"\n",
        "\n",
        "# count(substring): Count occurrences of a substring\n",
        "print(\"count():\", string.count('o'))  # Output: 2\n",
        "\n",
        "# endswith(suffix): Check if the string ends with a specific suffix\n",
        "print(\"endswith():\", string.endswith('!'))  # Output: True\n",
        "\n",
        "# find(substring): Find the index of a substring\n",
        "print(\"find():\", string.find('world'))  # Output: 9\n",
        "\n",
        "# isalnum(): Check if all characters are alphanumeric\n",
        "print(\"isalnum():\", string.isalnum())  # Output: False\n",
        "\n",
        "# isalpha(): Check if all characters are alphabetic\n",
        "print(\"isalpha():\", string.isalpha())  # Output: False\n",
        "\n",
        "# islower(): Check if all characters are lowercase\n",
        "print(\"islower():\", string.islower())  # Output: False\n",
        "\n",
        "# isspace(): Check if all characters are whitespace\n",
        "print(\"isspace():\", string.isspace())  # Output: False\n",
        "\n",
        "# isupper(): Check if all characters are uppercase\n",
        "print(\"isupper():\", string.isupper())  # Output: False\n",
        "\n",
        "# lower(): Convert string to lowercase\n",
        "print(\"lower():\", string.lower())  # Output: \"  hello, world!  \"\n",
        "\n",
        "# upper(): Convert string to uppercase\n",
        "print(\"upper():\", string.upper())  # Output: \"  HELLO, WORLD!  \"\n",
        "\n",
        "# strip(): Remove leading and trailing whitespace\n",
        "print(\"strip():\", string.strip())  # Output: \"hello, world!\"\n",
        "\n",
        "# replace(old, new): Replace occurrences of a substring\n",
        "print(\"replace():\", string.replace('world', 'universe'))  # Output: \"  hello, universe!  \"\n"
      ],
      "metadata": {
        "colab": {
          "base_uri": "https://localhost:8080/"
        },
        "id": "AqpbN7WdBPVP",
        "outputId": "b4522b31-f05d-45bb-bccb-eb06168afc8c"
      },
      "execution_count": 2,
      "outputs": [
        {
          "output_type": "stream",
          "name": "stdout",
          "text": [
            "capitalize():   hello, world!  \n",
            "casefold():   hello, world!  \n",
            "center(): *  hello, world!  **\n",
            "count(): 2\n",
            "endswith(): False\n",
            "find(): 9\n",
            "isalnum(): False\n",
            "isalpha(): False\n",
            "islower(): True\n",
            "isspace(): False\n",
            "isupper(): False\n",
            "lower():   hello, world!  \n",
            "upper():   HELLO, WORLD!  \n",
            "strip(): hello, world!\n",
            "replace():   hello, universe!  \n"
          ]
        }
      ]
    },
    {
      "cell_type": "code",
      "source": [],
      "metadata": {
        "id": "4Fx2OnPmand0"
      },
      "execution_count": null,
      "outputs": []
    }
  ]
}